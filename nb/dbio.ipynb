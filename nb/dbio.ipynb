{
 "cells": [
  {
   "cell_type": "code",
   "execution_count": 1,
   "id": "3dc0a3ec-f839-4d9e-9819-a917a69bf4e8",
   "metadata": {
    "ExecuteTime": {
     "end_time": "2023-12-28T19:23:49.853256700Z",
     "start_time": "2023-12-28T19:23:49.489582100Z"
    }
   },
   "outputs": [
    {
     "data": {
      "text/plain": "<src.api.bases.Vendor.ResourceMap at 0x21f46d04690>"
     },
     "execution_count": 1,
     "metadata": {},
     "output_type": "execute_result"
    }
   ],
   "source": [
    "from src.api import query\n",
    "from src.api import vendors\n",
    "from src.api.bases.Vendor import ResourceMap\n",
    "\n",
    "all_vendors = ResourceMap(vendors)\n",
    "all_vendors"
   ]
  },
  {
   "cell_type": "code",
   "outputs": [
    {
     "data": {
      "text/plain": "'SaMMlsYB17RLpcNXGepTi2ENHYAcErz3aNknoxi29ihJy4xsA+uU6O4S+KQQbGupE/uRKuLpJIqfJWC7nFlgSe7Q7pmegM+h+Y7zE/PJQ6t5LBe3w0q9SQIxSugtd5/BItXFAbJPq8woV9/mUbqQVTuwa8HpgY2K2TB95TfalVsaGuZnIRX34Uc+a3LVPnpGDrY7mt2XEwD6LfZcLVBC5L7f9drpAAfBqBt2Umt+q+emID6f8O0Z/toiD52WKaWtsI2buqLoPIrhzCKk7MrKoDu0CngCDPcns8q3Ets8IumU/DIJ7BrZoaSTySMdLZCtCBEuWO/2nOq1xuSzxhUNaZF7w/HPVw711hEAvLh6g5xAyE9AOlZ1x3tZ5j17bdy9FruBKjYEPonQ6c/oW0lUQJ0rAn12zFFQVT5R1GmuucuB/cg/vkRWdIeBmHWWS0Bqpqp4a7aoFJsiZZymgUfRwDTKE6p4qXYrHKKmqxbwE4QpvanaUQs370wVE6DmZfT92N1HvDK770h1nEmH1+rhFkW/Qhc+jYXdlwhKSQm+lrmSjWquxrUBH188Cj1100MQuG4LYrgoVi/JHHvl7fzoh2KT23oCZtMGdXGfssz3qdQ0c6xOs7YqrgOuz8yLWbIbtXLdEGZssCOIS/HBkuZw+AR0pxOAGF3J1CqFRG8FTDtdpCkGthbMJGXHDxNCwf2ZcE0D6AElxsymeymucLMoHzpDnLB9RFPKW1MBE9rlhHRbbAq8LHZfhEQf+UZoJ9taG0JdvLbdXAJlPT73VVxpTgW1K3zBhNS8Qsskl/7c8EoatXBe+y75Z2I/LRnHuL2QjY4/ZeRIhdleZDW3NVFvu8Owl5qJmhzI0mxLjSi1AItwP8wReLfs65LE5WAxdOGWP2EyZ7M/Kry2sykryK4k7YN+PGrOC716jgwWt4UCSUSa/dUIihwygoBuTFBEGy+Nd1jz9hNNINwJ0UP0gqeNdDhDtB8Wgqg7/H3q/icPSFbi864+E/I30h4QF0vZkvBX8N0xRWUbUG4YINoMewXErJ5TjBdtDmvoeBLdLTfa3R8D8Ta2YOI/fe2uhaPDeSc+oiMNuP/bWVWDw98BVRikYePkcQcpW8jXBAp91XeLITrfP+iBCRoU2WjDdm9FHfgLAeiK11hzJJw=212FD3x19z9sWBHDJACbC00B75E'"
     },
     "execution_count": 2,
     "metadata": {},
     "output_type": "execute_result"
    }
   ],
   "source": [
    "td_auth = all_vendors['td']['auth']()\n",
    "td_auth"
   ],
   "metadata": {
    "collapsed": false,
    "ExecuteTime": {
     "end_time": "2023-12-28T19:23:50.645975100Z",
     "start_time": "2023-12-28T19:23:49.853256700Z"
    }
   },
   "id": "f78fb90ccfc55051",
   "execution_count": 2
  },
  {
   "cell_type": "code",
   "outputs": [
    {
     "data": {
      "text/plain": "  symbol  bidPrice  askPrice  bidSize  askSize         quoteTimeInLong  \\\n0   AAPL    194.02    194.03      300      400 2023-12-28 19:28:08.424   \n\n          tradeTimeInLong  \n0 2023-12-28 19:28:07.924  ",
      "text/html": "<div>\n<style scoped>\n    .dataframe tbody tr th:only-of-type {\n        vertical-align: middle;\n    }\n\n    .dataframe tbody tr th {\n        vertical-align: top;\n    }\n\n    .dataframe thead th {\n        text-align: right;\n    }\n</style>\n<table border=\"1\" class=\"dataframe\">\n  <thead>\n    <tr style=\"text-align: right;\">\n      <th></th>\n      <th>symbol</th>\n      <th>bidPrice</th>\n      <th>askPrice</th>\n      <th>bidSize</th>\n      <th>askSize</th>\n      <th>quoteTimeInLong</th>\n      <th>tradeTimeInLong</th>\n    </tr>\n  </thead>\n  <tbody>\n    <tr>\n      <th>0</th>\n      <td>AAPL</td>\n      <td>194.02</td>\n      <td>194.03</td>\n      <td>300</td>\n      <td>400</td>\n      <td>2023-12-28 19:28:08.424</td>\n      <td>2023-12-28 19:28:07.924</td>\n    </tr>\n  </tbody>\n</table>\n</div>"
     },
     "execution_count": 9,
     "metadata": {},
     "output_type": "execute_result"
    }
   ],
   "source": [
    "sample_data_flat = all_vendors['td']['quote'](td_auth, 'AAPL')\n",
    "sample_data_flat.df"
   ],
   "metadata": {
    "collapsed": false,
    "ExecuteTime": {
     "end_time": "2023-12-28T19:28:07.522640300Z",
     "start_time": "2023-12-28T19:28:06.086786100Z"
    }
   },
   "id": "4bf389cbf2a1cffa",
   "execution_count": 9
  },
  {
   "cell_type": "code",
   "outputs": [
    {
     "data": {
      "text/plain": "         open      high       low     close  volume            datetime\n0    192.8500  192.8600  192.8500  192.8600    1416 2023-12-27 12:00:00\n1    192.8600  192.8600  192.8600  192.8600     104 2023-12-27 12:01:00\n2    192.8500  192.8500  192.8500  192.8500     300 2023-12-27 12:07:00\n3    192.8200  192.8200  192.8200  192.8200     111 2023-12-27 12:09:00\n4    192.8300  192.8300  192.8300  192.8300    1500 2023-12-27 12:10:00\n..        ...       ...       ...       ...     ...                 ...\n627  193.2000  193.2000  193.2000  193.2000     270 2023-12-28 00:54:00\n628  193.2200  193.2200  193.2100  193.2100     200 2023-12-28 00:56:00\n629  193.2098  193.2098  193.1800  193.1800     531 2023-12-28 00:57:00\n630  193.1800  193.1800  193.1599  193.1600    3340 2023-12-28 00:58:00\n631  193.1599  193.1794  193.1599  193.1794     500 2023-12-28 00:59:00\n\n[632 rows x 6 columns]",
      "text/html": "<div>\n<style scoped>\n    .dataframe tbody tr th:only-of-type {\n        vertical-align: middle;\n    }\n\n    .dataframe tbody tr th {\n        vertical-align: top;\n    }\n\n    .dataframe thead th {\n        text-align: right;\n    }\n</style>\n<table border=\"1\" class=\"dataframe\">\n  <thead>\n    <tr style=\"text-align: right;\">\n      <th></th>\n      <th>open</th>\n      <th>high</th>\n      <th>low</th>\n      <th>close</th>\n      <th>volume</th>\n      <th>datetime</th>\n    </tr>\n  </thead>\n  <tbody>\n    <tr>\n      <th>0</th>\n      <td>192.8500</td>\n      <td>192.8600</td>\n      <td>192.8500</td>\n      <td>192.8600</td>\n      <td>1416</td>\n      <td>2023-12-27 12:00:00</td>\n    </tr>\n    <tr>\n      <th>1</th>\n      <td>192.8600</td>\n      <td>192.8600</td>\n      <td>192.8600</td>\n      <td>192.8600</td>\n      <td>104</td>\n      <td>2023-12-27 12:01:00</td>\n    </tr>\n    <tr>\n      <th>2</th>\n      <td>192.8500</td>\n      <td>192.8500</td>\n      <td>192.8500</td>\n      <td>192.8500</td>\n      <td>300</td>\n      <td>2023-12-27 12:07:00</td>\n    </tr>\n    <tr>\n      <th>3</th>\n      <td>192.8200</td>\n      <td>192.8200</td>\n      <td>192.8200</td>\n      <td>192.8200</td>\n      <td>111</td>\n      <td>2023-12-27 12:09:00</td>\n    </tr>\n    <tr>\n      <th>4</th>\n      <td>192.8300</td>\n      <td>192.8300</td>\n      <td>192.8300</td>\n      <td>192.8300</td>\n      <td>1500</td>\n      <td>2023-12-27 12:10:00</td>\n    </tr>\n    <tr>\n      <th>...</th>\n      <td>...</td>\n      <td>...</td>\n      <td>...</td>\n      <td>...</td>\n      <td>...</td>\n      <td>...</td>\n    </tr>\n    <tr>\n      <th>627</th>\n      <td>193.2000</td>\n      <td>193.2000</td>\n      <td>193.2000</td>\n      <td>193.2000</td>\n      <td>270</td>\n      <td>2023-12-28 00:54:00</td>\n    </tr>\n    <tr>\n      <th>628</th>\n      <td>193.2200</td>\n      <td>193.2200</td>\n      <td>193.2100</td>\n      <td>193.2100</td>\n      <td>200</td>\n      <td>2023-12-28 00:56:00</td>\n    </tr>\n    <tr>\n      <th>629</th>\n      <td>193.2098</td>\n      <td>193.2098</td>\n      <td>193.1800</td>\n      <td>193.1800</td>\n      <td>531</td>\n      <td>2023-12-28 00:57:00</td>\n    </tr>\n    <tr>\n      <th>630</th>\n      <td>193.1800</td>\n      <td>193.1800</td>\n      <td>193.1599</td>\n      <td>193.1600</td>\n      <td>3340</td>\n      <td>2023-12-28 00:58:00</td>\n    </tr>\n    <tr>\n      <th>631</th>\n      <td>193.1599</td>\n      <td>193.1794</td>\n      <td>193.1599</td>\n      <td>193.1794</td>\n      <td>500</td>\n      <td>2023-12-28 00:59:00</td>\n    </tr>\n  </tbody>\n</table>\n<p>632 rows × 6 columns</p>\n</div>"
     },
     "execution_count": 10,
     "metadata": {},
     "output_type": "execute_result"
    }
   ],
   "source": [
    "sample_data_nested = all_vendors['td']['price_history'](td_auth, 'AAPL')\n",
    "sample_data_nested.df"
   ],
   "metadata": {
    "collapsed": false,
    "ExecuteTime": {
     "end_time": "2023-12-28T19:29:04.220950400Z",
     "start_time": "2023-12-28T19:29:03.327084900Z"
    }
   },
   "id": "c96038145f2fc968",
   "execution_count": 10
  },
  {
   "cell_type": "code",
   "outputs": [],
   "source": [
    "sample_data_flat.df.to_csv('sample_data_flat.csv', index=False)\n",
    "sample_data_nested.df.to_csv('sample_data_nested.csv', index=False)"
   ],
   "metadata": {
    "collapsed": false,
    "ExecuteTime": {
     "end_time": "2023-12-28T20:18:41.188469500Z",
     "start_time": "2023-12-28T20:18:41.170709100Z"
    }
   },
   "id": "edac5afe1df49605",
   "execution_count": 12
  },
  {
   "cell_type": "code",
   "outputs": [],
   "source": [],
   "metadata": {
    "collapsed": false
   },
   "id": "533d59b9ff5700ba"
  }
 ],
 "metadata": {
  "kernelspec": {
   "display_name": "Python 3 (ipykernel)",
   "language": "python",
   "name": "python3"
  },
  "language_info": {
   "codemirror_mode": {
    "name": "ipython",
    "version": 3
   },
   "file_extension": ".py",
   "mimetype": "text/x-python",
   "name": "python",
   "nbconvert_exporter": "python",
   "pygments_lexer": "ipython3",
   "version": "3.11.0"
  }
 },
 "nbformat": 4,
 "nbformat_minor": 5
}
